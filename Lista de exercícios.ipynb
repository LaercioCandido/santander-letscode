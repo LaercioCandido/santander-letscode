{
 "cells": [
  {
   "cell_type": "markdown",
   "id": "25293029",
   "metadata": {},
   "source": [
    "# Questão 1.\n",
    "Faça um programa que peça ao usuário um número e imprima todos os números de um até o número que o usuário informar."
   ]
  },
  {
   "cell_type": "code",
   "execution_count": 15,
   "id": "afe38d6e",
   "metadata": {},
   "outputs": [
    {
     "name": "stdout",
     "output_type": "stream",
     "text": [
      "Escreva um número positivo: -5\n",
      "Número inválido. Tente novamente.\n",
      "Escreva um número positivo: -7\n",
      "Número inválido. Tente novamente.\n",
      "Escreva um número positivo: 5\n",
      "1\n",
      "2\n",
      "3\n",
      "4\n",
      "5\n"
     ]
    }
   ],
   "source": [
    "numero = -1\n",
    "while numero < 1:\n",
    "    numero = int(input(\"Escreva um número inteiro positivo: \"))\n",
    "    if numero < 1:\n",
    "        print(\"Número inválido. Tente novamente.\")\n",
    "contador = 1\n",
    "while contador <= numero:\n",
    "    print(contador)\n",
    "    contador += 1"
   ]
  },
  {
   "cell_type": "markdown",
   "id": "8142e333",
   "metadata": {},
   "source": [
    "# Questão 2.\n",
    "Crie um programa que leia um valor qualquer e apresente uma mensagem dizendo em qual dos seguintes intervalos ([0,25], (25,50], (50,75], (75,100]) este valor se encontra. Caso o valor não esteja em nenhum destes intervalos, deverá ser impressa a mensagem “Fora de intervalo”. Veja alguns exemplo abaixo:\n",
    "\n",
    "Entrada: 25.01 | Saída: (25,50]\n",
    "Entrada: 25.00 | Saída: [0,25]\n",
    "Entrada: 100.00 | Saída: (75,100]\n",
    "Entrada: -25.02 | Saída: Fora de intervalo"
   ]
  },
  {
   "cell_type": "code",
   "execution_count": 23,
   "id": "ccfbe77e",
   "metadata": {},
   "outputs": [
    {
     "name": "stdout",
     "output_type": "stream",
     "text": [
      "Entre com um número: 78\n",
      "O número se encontra no intervalo (75, 100]\n"
     ]
    }
   ],
   "source": [
    "numero = float(input(\"Entre com um número: \"))\n",
    "\n",
    "if numero >= 0 and numero <= 25:\n",
    "    print(\"O número se encontra no intervalo [0,25]\")\n",
    "elif numero > 25 and numero <= 50:\n",
    "    print(\"O número se encontra no intervalo (25, 50]\")\n",
    "elif numero > 50 and numero <= 75:\n",
    "    print(\"O número se encontra no intervalo (50, 75]\")\n",
    "elif numero > 75 and numero <= 100:\n",
    "    print(\"O número se encontra no intervalo (75, 100]\")\n",
    "else:\n",
    "    print(\"Fora de intervalo\")"
   ]
  },
  {
   "cell_type": "markdown",
   "id": "29b789db",
   "metadata": {},
   "source": [
    "# Questão 3.\n",
    "Crie uma função que recebe o valor do raio de um círculo como parâmetro e retorna o valor da área desse círculo. Lembrando que a área de círculo é dada pela equação: A = ℼ r^2"
   ]
  },
  {
   "cell_type": "code",
   "execution_count": 1,
   "id": "e48c9475",
   "metadata": {},
   "outputs": [
    {
     "name": "stdout",
     "output_type": "stream",
     "text": [
      "Digite o raio do círculo: 4.5\n",
      "A área do círculo é 63.61725123519331\n"
     ]
    }
   ],
   "source": [
    "import math\n",
    "\n",
    "raio = float(input(\"Digite o raio do círculo: \"))\n",
    "print(f'A área do círculo é {math.pi * raio ** 2}')"
   ]
  },
  {
   "cell_type": "markdown",
   "id": "642f70f3",
   "metadata": {},
   "source": [
    "# Questão 4.\n",
    "Faça um programa que peça 2 números inteiros e um número real, calcule e mostre:\n",
    "a) o produto entre o dobro do primeiro e a metade do segundo.\n",
    "b) a soma entre o triplo do primeiro e o terceiro.\n",
    "c) o terceiro elevado ao cubo."
   ]
  },
  {
   "cell_type": "code",
   "execution_count": 35,
   "id": "22f69fde",
   "metadata": {},
   "outputs": [
    {
     "name": "stdout",
     "output_type": "stream",
     "text": [
      "Digite um número inteiro: 1\n",
      "Digite outro número inteiro: 1\n",
      "Digite um número real: 2\n",
      "O produto entre o dobro do primeiro e a metade do segundo é 1.0\n",
      "A soma entre o triplo do primeiro e o terceiro é 5.0\n",
      "O terceiro elevado ao cubo é 8.0\n"
     ]
    }
   ],
   "source": [
    "num1 = int(input(\"Digite um número inteiro: \"))\n",
    "num2 = int(input(\"Digite outro número inteiro: \"))\n",
    "num3 = float(input(\"Digite um número real: \"))\n",
    "\n",
    "print(f'O produto entre o dobro do primeiro e a metade do segundo é {num1 * 2 * num2 / 2}')\n",
    "print(f'A soma entre o triplo do primeiro e o terceiro é {num1 * 3 + num3}')\n",
    "print(f'O terceiro elevado ao cubo é {num3 ** 3}')"
   ]
  },
  {
   "cell_type": "markdown",
   "id": "14ff55dc",
   "metadata": {},
   "source": [
    "# Questão 5.\n",
    "Vamos fazer um programa para verificar quem é o assassino de um crime. Para descobrir o assassino, a polícia faz um pequeno questionário com 5 perguntas onde a resposta só pode ser sim ou não:\n",
    "1. Mora perto da vítima?\n",
    "2. Já trabalhou com a vítima?\n",
    "3. Telefonou para a vítima?\n",
    "4. Esteve no local do crime?\n",
    "5. Devia para a vítima?\n",
    "Cada resposta sim dá um ponto para o suspeito. A polícia considera que os suspeitos com 5 pontos são os assassinos, com 4 a 3 pontos são cúmplices e 2 pontos são apenas suspeitos, necessitando de outras investigações. Valores abaixo de 2 são liberados. No seu programa, você deve fazer essas perguntas e, de acordo com as respostas do usuário, você vai informar como a polícia o considera.\n"
   ]
  },
  {
   "cell_type": "code",
   "execution_count": 46,
   "id": "f2b43dbd",
   "metadata": {},
   "outputs": [
    {
     "name": "stdout",
     "output_type": "stream",
     "text": [
      "Mora perto da vítima?sim\n",
      "Já trabalhou com a vítima?SIM\n",
      "Telefonou para a vítima?SIM\n",
      "Esteve no local do crime?SIM\n",
      "Devia para a vítima?SIM\n",
      "5\n",
      "Assassino\n"
     ]
    }
   ],
   "source": [
    "pergunta1 = input(\"Mora perto da vítima?\")\n",
    "pergunta2 = input(\"Já trabalhou com a vítima?\")\n",
    "pergunta3 = input(\"Telefonou para a vítima?\")\n",
    "pergunta4 = input(\"Esteve no local do crime?\")\n",
    "pergunta5 = input(\"Devia para a vítima?\")\n",
    "\n",
    "contador = 0\n",
    "if pergunta1.lower() == \"sim\":\n",
    "    contador += 1\n",
    "if pergunta2.lower() == \"sim\":\n",
    "    contador += 1\n",
    "if pergunta3.lower() == \"sim\":\n",
    "    contador += 1\n",
    "if pergunta4.lower() == \"sim\":\n",
    "    contador += 1\n",
    "if pergunta5.lower() == \"sim\":\n",
    "    contador += 1\n",
    "    \n",
    "print(contador)\n",
    "if contador == 5:\n",
    "    print(\"Assassino\")\n",
    "elif contador >= 3:\n",
    "    print(\"Cúmplice\")\n",
    "elif contador == 2:\n",
    "    print(\"Suspeito\")\n",
    "else:\n",
    "    print(\"Liberado\")"
   ]
  },
  {
   "cell_type": "markdown",
   "id": "6b5cd1f6",
   "metadata": {},
   "source": [
    "# Questão 6.\n",
    "Faça uma função que recebe uma lista de números e retorna a soma dos elementos dessa lista.\n"
   ]
  },
  {
   "cell_type": "code",
   "execution_count": 52,
   "id": "ed7ecaf3",
   "metadata": {},
   "outputs": [
    {
     "name": "stdout",
     "output_type": "stream",
     "text": [
      "68\n"
     ]
    }
   ],
   "source": [
    "def soma(lista):\n",
    "    acumula = 0\n",
    "    for numero in lista:\n",
    "        acumula = acumula + numero\n",
    "    return acumula\n",
    "\n",
    "print(soma([3, 4, 5, 6, 50]))"
   ]
  },
  {
   "cell_type": "markdown",
   "id": "3ddd5033",
   "metadata": {},
   "source": [
    "# Questão 7.\n",
    "Faça um programa que leia as coordenadas de 2 (dois) pontos em um plano cartesiano 2D: a coordenada x do primeiro ponto (x_1), a coordenada y do primeiro ponto (y_1), a coordenada x do segundo ponto (x_2) e a coordenada y do segundo ponto (y_2).  Em seguida, calcule a distância euclidiana entre os pontos"
   ]
  },
  {
   "cell_type": "code",
   "execution_count": 63,
   "id": "a9256f61",
   "metadata": {},
   "outputs": [
    {
     "name": "stdout",
     "output_type": "stream",
     "text": [
      "Digite a coordenada x do primeiro ponto: 0\n",
      "Digite a coordenada y do primeiro ponto: 3\n",
      "Digite a coordenada x do segundo ponto: 4\n",
      "Digite a coordenada x do segundo ponto: 0\n",
      "A distância euclidiana entre os dois pontos é 5.0\n"
     ]
    }
   ],
   "source": [
    "x_1 = int(input(\"Digite a coordenada x do primeiro ponto: \"))\n",
    "y_1 = int(input(\"Digite a coordenada y do primeiro ponto: \"))\n",
    "x_2 = int(input(\"Digite a coordenada x do segundo ponto: \"))\n",
    "y_2 = int(input(\"Digite a coordenada x do segundo ponto: \"))\n",
    "\n",
    "import math\n",
    "distancia = math.sqrt((x_2 - x_1) ** 2 + (y_2 - y_1) ** 2)\n",
    "print(f'A distância euclidiana entre os dois pontos é {distancia}')"
   ]
  },
  {
   "cell_type": "markdown",
   "id": "e1475bee",
   "metadata": {},
   "source": [
    "# Questão 8.\n",
    "Calcule a soma de mil termos dos inversos dos fatoriais: 1/(1!) + 1/(2!) + 1/(3!) + 1/(4!) + ...\n"
   ]
  },
  {
   "cell_type": "code",
   "execution_count": 70,
   "id": "0e06a497",
   "metadata": {},
   "outputs": [
    {
     "name": "stdout",
     "output_type": "stream",
     "text": [
      "1.7182818284590455\n"
     ]
    }
   ],
   "source": [
    "contador = 1\n",
    "soma = 0\n",
    "termo = 1\n",
    "\n",
    "while contador <= 1000:\n",
    "    termo = termo * contador\n",
    "    soma = soma + 1 / termo\n",
    "    contador += 1\n",
    "    \n",
    "print(soma)"
   ]
  },
  {
   "cell_type": "markdown",
   "id": "b65fef49",
   "metadata": {},
   "source": [
    "# Questão 9.\n",
    "Crie (manualmente ou sorteando os números) uma lista de 10 números e imprima:\n",
    "1. uma lista com os 4 primeiros números;\n",
    "2. uma lista com os 5 últimos números;\n",
    "3. uma lista contendo apenas os elementos das posições pares;\n",
    "4. uma lista contendo apenas os elementos das posições ímpares;\n",
    "5. a lista inversa da lista sorteada (isto é, uma lista que começa com o último elemento da  lista sorteada e termina\n",
    "com o primeiro);\n",
    "6. uma lista inversa dos 5 primeiros números;\n",
    "7. uma lista inversa dos 5 últimos números.\n"
   ]
  },
  {
   "cell_type": "code",
   "execution_count": 87,
   "id": "3dbb6408",
   "metadata": {},
   "outputs": [
    {
     "name": "stdout",
     "output_type": "stream",
     "text": [
      "[0, 1, 2, 3]\n",
      "[5, 6, 7, 8, 9]\n",
      "[0, 2, 4, 6, 8]\n",
      "[1, 3, 5, 7, 9]\n",
      "[9, 8, 7, 6, 5, 4, 3, 2, 1, 0]\n",
      "[9, 8, 7, 6, 5]\n",
      "[4, 3, 2, 1, 0]\n"
     ]
    }
   ],
   "source": [
    "lista = [0, 1, 2, 3, 4, 5, 6, 7, 8, 9]\n",
    "\n",
    "print(lista[:4])\n",
    "print(lista[5:])\n",
    "print(lista[::2])\n",
    "print(lista[1::2])\n",
    "inversa = lista[::-1]\n",
    "print(inversa)\n",
    "print(inversa[:5])\n",
    "print(inversa[5:])\n",
    "    "
   ]
  },
  {
   "cell_type": "markdown",
   "id": "d12ed3d0",
   "metadata": {},
   "source": [
    "# Questão 10.\n",
    "Na música, uma nota tem um tom (sua frequência, resultando em quão grave ou agudo é o\n",
    "som) e uma duração (por quanto tempo a nota soa). Neste problema, estamos interessados\n",
    "apenas na duração das notas.\n",
    "Marcos está dando os primeiros passos para ser um compositor de jingles. Ele está tendo alguns\n",
    "problemas, mas ao menos ele está criando melodias agradáveis e ritmos atrativos. Um jingle é\n",
    "dividido em uma sequência de compassos, e um compasso é formado de uma série de notas.\n",
    "A duração de uma nota é indicada pela sua forma. Neste problema, iremos utilizar letras\n",
    "maiúsculas para indicar a duração de uma nota. A seguinte tabela lista todas as notas\n",
    "disponíveis:\n",
    "    \n",
    "Identificador - duração\n",
    "W: 1\n",
    "H: 1/2\n",
    "Q: 1/4\n",
    "E: 1/8\n",
    "S: 1/16\n",
    "T: 1/32\n",
    "X: 1/64\n",
    "    \n",
    "A duração de um compasso é a soma da duração de suas notas. Nos jingles de Marcos, cada\n",
    "compasso tem a mesma duração. Como Marcos é apenas um iniciante, seu famoso professor\n",
    "Johann Sebastian III o ensinou que a duração de um compasso deve ser sempre 1.\n",
    "Por exemplo, Marcos escreveu uma composição contendo cinco compassos, dentre os quais\n",
    "quatro possuem a duração correta e um está errado. No exemplo abaixo, cada compasso é\n",
    "delimitado com barras e cada nota é representada como na tabela acima.\n",
    "\n",
    "/HH/QQQQ/XXXTXTEQH/W/HW\n",
    "\n",
    "Marcos gosta de computadores assim como de música. Ele quer que você escreva um programa\n",
    "que determine, para cada uma de suas composições, quantos compassos possuem a duração\n",
    "correta e quais são os compassos com duração incorreta\n"
   ]
  },
  {
   "cell_type": "code",
   "execution_count": 2,
   "id": "3f05b430",
   "metadata": {},
   "outputs": [
    {
     "name": "stdout",
     "output_type": "stream",
     "text": [
      "Digite o jingle: /HH/W/SSSSE/EWHH/\n",
      "Qtd. de Corretos:  2\n",
      "Incorretos:  ['SSSSE', 'EWHH']\n"
     ]
    }
   ],
   "source": [
    "jingle = input(\"Digite o jingle: \")\n",
    "compassos = jingle.strip(\"/\").split(\"/\")\n",
    "corretos = 0\n",
    "incorretos = []\n",
    "\n",
    "for compasso in compassos:\n",
    "    soma = 0\n",
    "    for nota in compasso:\n",
    "        if nota == \"W\":\n",
    "            soma += 1\n",
    "        elif nota == \"H\":\n",
    "            soma += 1/2\n",
    "        elif nota == \"Q\":\n",
    "            soma += 1/4\n",
    "        elif nota == \"E\":\n",
    "            soma += 1/8\n",
    "        elif nota == \"S\":\n",
    "            soma += 1/16\n",
    "        elif nota == \"T\":\n",
    "            soma += 1/32\n",
    "        elif nota == \"X\":\n",
    "            soma += 1/64\n",
    "        \n",
    "    if soma == 1:\n",
    "        corretos += 1\n",
    "    elif compasso != ' ' and compasso != '':\n",
    "        incorretos.append(compasso)\n",
    "        \n",
    "print(\"Qtd. de Corretos: \", corretos)\n",
    "if len(incorretos) > 0:\n",
    "    print(\"Incorretos: \", incorretos)"
   ]
  },
  {
   "cell_type": "code",
   "execution_count": null,
   "id": "66d7fd93",
   "metadata": {},
   "outputs": [],
   "source": []
  }
 ],
 "metadata": {
  "kernelspec": {
   "display_name": "Python 3 (ipykernel)",
   "language": "python",
   "name": "python3"
  },
  "language_info": {
   "codemirror_mode": {
    "name": "ipython",
    "version": 3
   },
   "file_extension": ".py",
   "mimetype": "text/x-python",
   "name": "python",
   "nbconvert_exporter": "python",
   "pygments_lexer": "ipython3",
   "version": "3.9.12"
  }
 },
 "nbformat": 4,
 "nbformat_minor": 5
}
